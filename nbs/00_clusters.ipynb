{
 "cells": [
  {
   "cell_type": "markdown",
   "metadata": {},
   "source": [
    "# Clusters\n",
    "Este modulo contiene un conjunto de distintos ejemplos de clusterizaciones, nos sirve para mostrar el potencial de nbdev y como generar software de forma consistente. "
   ]
  },
  {
   "cell_type": "code",
   "execution_count": 1,
   "metadata": {},
   "outputs": [],
   "source": [
    "#| default_exp Cluster_ejemplo"
   ]
  },
  {
   "cell_type": "code",
   "execution_count": 2,
   "metadata": {},
   "outputs": [],
   "source": [
    "#| hide\n",
    "#| export\n",
    "from nbdev.showdoc import *\n",
    "import sklearn\n",
    "import random \n",
    "import numpy as np\n",
    "import shapely\n"
   ]
  },
  {
   "cell_type": "markdown",
   "metadata": {},
   "source": [
    "# Clase para generar puntos geométricos. \n",
    "Vamos hacer una clase para que contenga puntos y que sean ya geometrías. "
   ]
  },
  {
   "cell_type": "code",
   "execution_count": 3,
   "metadata": {},
   "outputs": [],
   "source": [
    "#| export\n",
    "class data_points:\n",
    "    \"\"\"Una clase que contiene a los datos\"\"\"\n",
    "    def __init__(self, n, min_x = 0, min_y = 0, max_x= 1, max_y=1, seed= None):\n",
    "        if seed != None:\n",
    "            random.seed(seed)\n",
    "        \n",
    "        self.Points = np.random.uniform(low= min_x, high= max_x, size=(n, 2));\n",
    "        self.Points =  [shapely.Point(x[0],x[1]) for x in self.Points]\n",
    "\n",
    "    \n",
    "    def get_points(self):\n",
    "        \"\"\"Una funcion que para obtener los puntos\"\"\"\n",
    "        return self.Points\n",
    "\n",
    "    def get_Multypoint(self):\n",
    "        \"\"\"Regresa un objeto MultiPoint con los puntos\"\"\"\n",
    "        return shapely.geometry.MultiPoint(self.Points)\n",
    "    \n",
    "    def get_X(self):\n",
    "        \"\"\"Regresa las coordenadas X\"\"\"\n",
    "        return [x.x for x in self.Points]\n",
    "\n",
    "    def get_Y(self):\n",
    "        \"\"\"Regresa las coordenadas X\"\"\"\n",
    "        return [x.x for x in self.Points]\n",
    "\n",
    "            \n",
    "    "
   ]
  },
  {
   "cell_type": "code",
   "execution_count": 4,
   "metadata": {},
   "outputs": [],
   "source": [
    "#| hide\n",
    "datos_simples = data_points(40)\n"
   ]
  },
  {
   "cell_type": "code",
   "execution_count": 10,
   "metadata": {
    "collapsed": true,
    "jupyter": {
     "outputs_hidden": true
    }
   },
   "outputs": [
    {
     "data": {
      "text/plain": [
       "[<POINT (0.297 0.693)>,\n",
       " <POINT (0.97 0.735)>,\n",
       " <POINT (0.768 0.513)>,\n",
       " <POINT (0.264 0.405)>,\n",
       " <POINT (0.679 0.997)>,\n",
       " <POINT (0.456 0.475)>,\n",
       " <POINT (0.938 0.058)>,\n",
       " <POINT (0.992 0.986)>,\n",
       " <POINT (0.879 0.188)>,\n",
       " <POINT (0.046 0.696)>,\n",
       " <POINT (0.255 0.532)>,\n",
       " <POINT (0.269 0.196)>,\n",
       " <POINT (0.467 0.46)>,\n",
       " <POINT (0.927 0.559)>,\n",
       " <POINT (0.877 0.681)>,\n",
       " <POINT (0.914 0.883)>,\n",
       " <POINT (0.224 0.273)>,\n",
       " <POINT (0.545 0.481)>,\n",
       " <POINT (0.215 0.975)>,\n",
       " <POINT (0.437 0.579)>,\n",
       " <POINT (0.848 0.444)>,\n",
       " <POINT (0.423 0.735)>,\n",
       " <POINT (0.115 0.525)>,\n",
       " <POINT (0.654 0.286)>,\n",
       " <POINT (0.226 0.564)>,\n",
       " <POINT (0.967 0.174)>,\n",
       " <POINT (0.429 0.088)>,\n",
       " <POINT (0.968 0.51)>,\n",
       " <POINT (0.489 0.255)>,\n",
       " <POINT (0.165 0.268)>,\n",
       " <POINT (0.934 0.898)>,\n",
       " <POINT (0.101 0.166)>,\n",
       " <POINT (0.722 0.135)>,\n",
       " <POINT (0.287 0.843)>,\n",
       " <POINT (0.042 0.609)>,\n",
       " <POINT (0.809 0.712)>,\n",
       " <POINT (0.875 0.992)>,\n",
       " <POINT (0.651 0.104)>,\n",
       " <POINT (0.25 0.579)>,\n",
       " <POINT (0.961 0.64)>]"
      ]
     },
     "execution_count": 10,
     "metadata": {},
     "output_type": "execute_result"
    }
   ],
   "source": [
    "#| hide\n",
    "datos_simples.get_points()"
   ]
  },
  {
   "cell_type": "code",
   "execution_count": 6,
   "metadata": {},
   "outputs": [
    {
     "data": {
      "image/svg+xml": [
       "<svg xmlns=\"http://www.w3.org/2000/svg\" xmlns:xlink=\"http://www.w3.org/1999/xlink\" width=\"100.0\" height=\"100.0\" viewBox=\"0.003518675645912031 0.019738777260212018 1.0267957531546155 1.0154724199715999\" preserveAspectRatio=\"xMinYMin meet\"><g transform=\"matrix(1,0,0,-1,0,1.0549499744920239)\"><g><circle cx=\"0.2969721818345471\" cy=\"0.6928521833352749\" r=\"0.030803872594638466\" stroke=\"#555555\" stroke-width=\"0.010267957531546155\" fill=\"#66cc99\" opacity=\"0.6\" /><circle cx=\"0.9695993636424152\" cy=\"0.7350885247021798\" r=\"0.030803872594638466\" stroke=\"#555555\" stroke-width=\"0.010267957531546155\" fill=\"#66cc99\" opacity=\"0.6\" /><circle cx=\"0.7682054628099028\" cy=\"0.5128866119087236\" r=\"0.030803872594638466\" stroke=\"#555555\" stroke-width=\"0.010267957531546155\" fill=\"#66cc99\" opacity=\"0.6\" /><circle cx=\"0.2638508503924647\" cy=\"0.4045157248679482\" r=\"0.030803872594638466\" stroke=\"#555555\" stroke-width=\"0.010267957531546155\" fill=\"#66cc99\" opacity=\"0.6\" /><circle cx=\"0.6786841172809145\" cy=\"0.997181724892752\" r=\"0.030803872594638466\" stroke=\"#555555\" stroke-width=\"0.010267957531546155\" fill=\"#66cc99\" opacity=\"0.6\" /><circle cx=\"0.4557799907410014\" cy=\"0.4747497020235467\" r=\"0.030803872594638466\" stroke=\"#555555\" stroke-width=\"0.010267957531546155\" fill=\"#66cc99\" opacity=\"0.6\" /><circle cx=\"0.9379588025188824\" cy=\"0.05776824959927185\" r=\"0.030803872594638466\" stroke=\"#555555\" stroke-width=\"0.010267957531546155\" fill=\"#66cc99\" opacity=\"0.6\" /><circle cx=\"0.9922849564614676\" cy=\"0.9855002786809823\" r=\"0.030803872594638466\" stroke=\"#555555\" stroke-width=\"0.010267957531546155\" fill=\"#66cc99\" opacity=\"0.6\" /><circle cx=\"0.87934375556521\" cy=\"0.1883059810839337\" r=\"0.030803872594638466\" stroke=\"#555555\" stroke-width=\"0.010267957531546155\" fill=\"#66cc99\" opacity=\"0.6\" /><circle cx=\"0.04566606742669965\" cy=\"0.6960607467457122\" r=\"0.030803872594638466\" stroke=\"#555555\" stroke-width=\"0.010267957531546155\" fill=\"#66cc99\" opacity=\"0.6\" /><circle cx=\"0.25462446588152576\" cy=\"0.5320431224717834\" r=\"0.030803872594638466\" stroke=\"#555555\" stroke-width=\"0.010267957531546155\" fill=\"#66cc99\" opacity=\"0.6\" /><circle cx=\"0.26864210666231514\" cy=\"0.19552417716839432\" r=\"0.030803872594638466\" stroke=\"#555555\" stroke-width=\"0.010267957531546155\" fill=\"#66cc99\" opacity=\"0.6\" /><circle cx=\"0.4670302752589506\" cy=\"0.45964376184083355\" r=\"0.030803872594638466\" stroke=\"#555555\" stroke-width=\"0.010267957531546155\" fill=\"#66cc99\" opacity=\"0.6\" /><circle cx=\"0.9266289257967224\" cy=\"0.558713499496354\" r=\"0.030803872594638466\" stroke=\"#555555\" stroke-width=\"0.010267957531546155\" fill=\"#66cc99\" opacity=\"0.6\" /><circle cx=\"0.8767875574622442\" cy=\"0.6811164143018599\" r=\"0.030803872594638466\" stroke=\"#555555\" stroke-width=\"0.010267957531546155\" fill=\"#66cc99\" opacity=\"0.6\" /><circle cx=\"0.9136488855597851\" cy=\"0.8825584279593889\" r=\"0.030803872594638466\" stroke=\"#555555\" stroke-width=\"0.010267957531546155\" fill=\"#66cc99\" opacity=\"0.6\" /><circle cx=\"0.22387892894954775\" cy=\"0.2732526132312765\" r=\"0.030803872594638466\" stroke=\"#555555\" stroke-width=\"0.010267957531546155\" fill=\"#66cc99\" opacity=\"0.6\" /><circle cx=\"0.5450659897966604\" cy=\"0.4806381497495714\" r=\"0.030803872594638466\" stroke=\"#555555\" stroke-width=\"0.010267957531546155\" fill=\"#66cc99\" opacity=\"0.6\" /><circle cx=\"0.2153479585719137\" cy=\"0.974842447298488\" r=\"0.030803872594638466\" stroke=\"#555555\" stroke-width=\"0.010267957531546155\" fill=\"#66cc99\" opacity=\"0.6\" /><circle cx=\"0.436516518074039\" cy=\"0.5785884910140827\" r=\"0.030803872594638466\" stroke=\"#555555\" stroke-width=\"0.010267957531546155\" fill=\"#66cc99\" opacity=\"0.6\" /><circle cx=\"0.8484766829983107\" cy=\"0.4443645881657955\" r=\"0.030803872594638466\" stroke=\"#555555\" stroke-width=\"0.010267957531546155\" fill=\"#66cc99\" opacity=\"0.6\" /><circle cx=\"0.42346260198755714\" cy=\"0.7349361387023783\" r=\"0.030803872594638466\" stroke=\"#555555\" stroke-width=\"0.010267957531546155\" fill=\"#66cc99\" opacity=\"0.6\" /><circle cx=\"0.1145819907763741\" cy=\"0.5249788044070582\" r=\"0.030803872594638466\" stroke=\"#555555\" stroke-width=\"0.010267957531546155\" fill=\"#66cc99\" opacity=\"0.6\" /><circle cx=\"0.6538451927866481\" cy=\"0.2858785507556427\" r=\"0.030803872594638466\" stroke=\"#555555\" stroke-width=\"0.010267957531546155\" fill=\"#66cc99\" opacity=\"0.6\" /><circle cx=\"0.22603212984465548\" cy=\"0.5640157746633409\" r=\"0.030803872594638466\" stroke=\"#555555\" stroke-width=\"0.010267957531546155\" fill=\"#66cc99\" opacity=\"0.6\" /><circle cx=\"0.9668468456802795\" cy=\"0.17354315292467115\" r=\"0.030803872594638466\" stroke=\"#555555\" stroke-width=\"0.010267957531546155\" fill=\"#66cc99\" opacity=\"0.6\" /><circle cx=\"0.4293684899185152\" cy=\"0.088230056687301\" r=\"0.030803872594638466\" stroke=\"#555555\" stroke-width=\"0.010267957531546155\" fill=\"#66cc99\" opacity=\"0.6\" /><circle cx=\"0.9679610311364597\" cy=\"0.5100968641795887\" r=\"0.030803872594638466\" stroke=\"#555555\" stroke-width=\"0.010267957531546155\" fill=\"#66cc99\" opacity=\"0.6\" /><circle cx=\"0.4891101523629048\" cy=\"0.25469893801434196\" r=\"0.030803872594638466\" stroke=\"#555555\" stroke-width=\"0.010267957531546155\" fill=\"#66cc99\" opacity=\"0.6\" /><circle cx=\"0.16490049255469996\" cy=\"0.2681998809000976\" r=\"0.030803872594638466\" stroke=\"#555555\" stroke-width=\"0.010267957531546155\" fill=\"#66cc99\" opacity=\"0.6\" /><circle cx=\"0.9344962249131796\" cy=\"0.8975935868732877\" r=\"0.030803872594638466\" stroke=\"#555555\" stroke-width=\"0.010267957531546155\" fill=\"#66cc99\" opacity=\"0.6\" /><circle cx=\"0.10128587152183244\" cy=\"0.16628228930630717\" r=\"0.030803872594638466\" stroke=\"#555555\" stroke-width=\"0.010267957531546155\" fill=\"#66cc99\" opacity=\"0.6\" /><circle cx=\"0.7219134980815002\" cy=\"0.1352904468438173\" r=\"0.030803872594638466\" stroke=\"#555555\" stroke-width=\"0.010267957531546155\" fill=\"#66cc99\" opacity=\"0.6\" /><circle cx=\"0.2865186910462011\" cy=\"0.8429855490243644\" r=\"0.030803872594638466\" stroke=\"#555555\" stroke-width=\"0.010267957531546155\" fill=\"#66cc99\" opacity=\"0.6\" /><circle cx=\"0.04154814798497186\" cy=\"0.6090576751912283\" r=\"0.030803872594638466\" stroke=\"#555555\" stroke-width=\"0.010267957531546155\" fill=\"#66cc99\" opacity=\"0.6\" /><circle cx=\"0.8091597811211938\" cy=\"0.7116533427605869\" r=\"0.030803872594638466\" stroke=\"#555555\" stroke-width=\"0.010267957531546155\" fill=\"#66cc99\" opacity=\"0.6\" /><circle cx=\"0.8750832838081907\" cy=\"0.9919166866637585\" r=\"0.030803872594638466\" stroke=\"#555555\" stroke-width=\"0.010267957531546155\" fill=\"#66cc99\" opacity=\"0.6\" /><circle cx=\"0.6511903564672106\" cy=\"0.10390769840108527\" r=\"0.030803872594638466\" stroke=\"#555555\" stroke-width=\"0.010267957531546155\" fill=\"#66cc99\" opacity=\"0.6\" /><circle cx=\"0.24961674397935307\" cy=\"0.5792540899375769\" r=\"0.030803872594638466\" stroke=\"#555555\" stroke-width=\"0.010267957531546155\" fill=\"#66cc99\" opacity=\"0.6\" /><circle cx=\"0.9608670011435055\" cy=\"0.6399061172822946\" r=\"0.030803872594638466\" stroke=\"#555555\" stroke-width=\"0.010267957531546155\" fill=\"#66cc99\" opacity=\"0.6\" /></g></g></svg>"
      ],
      "text/plain": [
       "<MULTIPOINT ((0.297 0.693), (0.97 0.735), (0.768 0.513), (0.264 0.405), (0.6...>"
      ]
     },
     "execution_count": 6,
     "metadata": {},
     "output_type": "execute_result"
    }
   ],
   "source": [
    "#| hide\n",
    "datos_simples.get_Multypoint()"
   ]
  },
  {
   "cell_type": "code",
   "execution_count": 7,
   "metadata": {
    "collapsed": true,
    "jupyter": {
     "outputs_hidden": true
    }
   },
   "outputs": [
    {
     "data": {
      "text/plain": [
       "[0.2969721818345471,\n",
       " 0.9695993636424152,\n",
       " 0.7682054628099028,\n",
       " 0.2638508503924647,\n",
       " 0.6786841172809145,\n",
       " 0.4557799907410014,\n",
       " 0.9379588025188824,\n",
       " 0.9922849564614676,\n",
       " 0.87934375556521,\n",
       " 0.04566606742669965,\n",
       " 0.25462446588152576,\n",
       " 0.26864210666231514,\n",
       " 0.4670302752589506,\n",
       " 0.9266289257967224,\n",
       " 0.8767875574622442,\n",
       " 0.9136488855597851,\n",
       " 0.22387892894954775,\n",
       " 0.5450659897966604,\n",
       " 0.2153479585719137,\n",
       " 0.436516518074039,\n",
       " 0.8484766829983107,\n",
       " 0.42346260198755714,\n",
       " 0.1145819907763741,\n",
       " 0.6538451927866481,\n",
       " 0.22603212984465548,\n",
       " 0.9668468456802795,\n",
       " 0.4293684899185152,\n",
       " 0.9679610311364597,\n",
       " 0.4891101523629048,\n",
       " 0.16490049255469996,\n",
       " 0.9344962249131796,\n",
       " 0.10128587152183244,\n",
       " 0.7219134980815002,\n",
       " 0.2865186910462011,\n",
       " 0.04154814798497186,\n",
       " 0.8091597811211938,\n",
       " 0.8750832838081907,\n",
       " 0.6511903564672106,\n",
       " 0.24961674397935307,\n",
       " 0.9608670011435055]"
      ]
     },
     "execution_count": 7,
     "metadata": {},
     "output_type": "execute_result"
    }
   ],
   "source": [
    "#| hide\n",
    "datos_simples.get_X()"
   ]
  },
  {
   "cell_type": "code",
   "execution_count": 8,
   "metadata": {
    "collapsed": true,
    "jupyter": {
     "outputs_hidden": true
    }
   },
   "outputs": [
    {
     "data": {
      "text/plain": [
       "[0.2969721818345471,\n",
       " 0.9695993636424152,\n",
       " 0.7682054628099028,\n",
       " 0.2638508503924647,\n",
       " 0.6786841172809145,\n",
       " 0.4557799907410014,\n",
       " 0.9379588025188824,\n",
       " 0.9922849564614676,\n",
       " 0.87934375556521,\n",
       " 0.04566606742669965,\n",
       " 0.25462446588152576,\n",
       " 0.26864210666231514,\n",
       " 0.4670302752589506,\n",
       " 0.9266289257967224,\n",
       " 0.8767875574622442,\n",
       " 0.9136488855597851,\n",
       " 0.22387892894954775,\n",
       " 0.5450659897966604,\n",
       " 0.2153479585719137,\n",
       " 0.436516518074039,\n",
       " 0.8484766829983107,\n",
       " 0.42346260198755714,\n",
       " 0.1145819907763741,\n",
       " 0.6538451927866481,\n",
       " 0.22603212984465548,\n",
       " 0.9668468456802795,\n",
       " 0.4293684899185152,\n",
       " 0.9679610311364597,\n",
       " 0.4891101523629048,\n",
       " 0.16490049255469996,\n",
       " 0.9344962249131796,\n",
       " 0.10128587152183244,\n",
       " 0.7219134980815002,\n",
       " 0.2865186910462011,\n",
       " 0.04154814798497186,\n",
       " 0.8091597811211938,\n",
       " 0.8750832838081907,\n",
       " 0.6511903564672106,\n",
       " 0.24961674397935307,\n",
       " 0.9608670011435055]"
      ]
     },
     "execution_count": 8,
     "metadata": {},
     "output_type": "execute_result"
    }
   ],
   "source": [
    "#| hide\n",
    "#| output: false\n",
    "datos_simples.get_Y()"
   ]
  },
  {
   "cell_type": "code",
   "execution_count": 14,
   "metadata": {},
   "outputs": [
    {
     "ename": "Exception",
     "evalue": "Si hay problema la evaluacion ",
     "output_type": "error",
     "traceback": [
      "\u001b[0;31m---------------------------------------------------------------------------\u001b[0m",
      "\u001b[0;31mException\u001b[0m                                 Traceback (most recent call last)",
      "Cell \u001b[0;32mIn[14], line 2\u001b[0m\n\u001b[1;32m      1\u001b[0m \u001b[38;5;66;03m#| eval: false\u001b[39;00m\n\u001b[0;32m----> 2\u001b[0m \u001b[38;5;28;01mraise\u001b[39;00m \u001b[38;5;167;01mException\u001b[39;00m(\u001b[38;5;124m\"\u001b[39m\u001b[38;5;124mSi hay problema la evaluacion \u001b[39m\u001b[38;5;124m\"\u001b[39m)\n",
      "\u001b[0;31mException\u001b[0m: Si hay problema la evaluacion "
     ]
    }
   ],
   "source": [
    "#| eval: false\n",
    "raise Exception(\"Si hay problema la evaluacion \")"
   ]
  },
  {
   "cell_type": "code",
   "execution_count": 9,
   "metadata": {},
   "outputs": [],
   "source": [
    "#| hide\n",
    "import nbdev; nbdev.nbdev_export()"
   ]
  },
  {
   "cell_type": "code",
   "execution_count": null,
   "metadata": {},
   "outputs": [],
   "source": []
  }
 ],
 "metadata": {
  "kernelspec": {
   "display_name": "Python 3 (ipykernel)",
   "language": "python",
   "name": "python3"
  },
  "language_info": {
   "codemirror_mode": {
    "name": "ipython",
    "version": 3
   },
   "file_extension": ".py",
   "mimetype": "text/x-python",
   "name": "python",
   "nbconvert_exporter": "python",
   "pygments_lexer": "ipython3",
   "version": "3.12.1"
  }
 },
 "nbformat": 4,
 "nbformat_minor": 4
}
