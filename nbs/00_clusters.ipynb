{
 "cells": [
  {
   "cell_type": "markdown",
   "metadata": {},
   "source": [
    "# Clusters\n",
    "Este modulo contiene un conjunto de distintos ejemplos de clusterizaciones, nos sirve para mostrar el potencial de nbdev y como generar software de forma consistente. "
   ]
  },
  {
   "cell_type": "code",
   "execution_count": 1,
   "metadata": {},
   "outputs": [],
   "source": [
    "#| default_exp Cluster_ejemplo"
   ]
  },
  {
   "cell_type": "code",
   "execution_count": 2,
   "metadata": {},
   "outputs": [],
   "source": [
    "#| hide\n",
    "from nbdev.showdoc import *\n",
    "import sklearn\n",
    "import random \n",
    "import numpy as np\n",
    "import shapely\n"
   ]
  },
  {
   "cell_type": "markdown",
   "metadata": {},
   "source": [
    "Vamos hacer una clase para que contenga los datos"
   ]
  },
  {
   "cell_type": "code",
   "execution_count": 3,
   "metadata": {},
   "outputs": [],
   "source": [
    "#| export\n",
    "class data_points:\n",
    "    \"\"\"Una clase que contiene a los datos\"\"\"\n",
    "    def __init__(self, n, min_x = 0, min_y = 0, max_x= 1, max_y=1, seed= None):\n",
    "        if seed != None:\n",
    "            random.seed(seed)\n",
    "        \n",
    "        self.Points = np.random.uniform(low= min_x, high= max_x, size=(n, 2));\n",
    "        self.Points =  [shapely.Point(x[0],x[1]) for x in self.Points]\n",
    "\n",
    "    \n",
    "    def get_points(self):\n",
    "        \"\"\"Una funcion que para obtener los puntos\"\"\"\n",
    "        return self.Points\n",
    "\n",
    "            \n",
    "    "
   ]
  },
  {
   "cell_type": "code",
   "execution_count": 4,
   "metadata": {},
   "outputs": [],
   "source": [
    "#|hide\n",
    "datos_simples = data_points(40)\n"
   ]
  },
  {
   "cell_type": "code",
   "execution_count": 5,
   "metadata": {},
   "outputs": [
    {
     "name": "stdout",
     "output_type": "stream",
     "text": [
      "[<POINT (0.95 0.864)>, <POINT (0.561 0.516)>, <POINT (0.968 0.136)>, <POINT (0.241 0.383)>, <POINT (0.843 0.365)>, <POINT (0.25 0.48)>, <POINT (0.263 0.635)>, <POINT (0.847 0.713)>, <POINT (0.056 0.467)>, <POINT (0.959 0.946)>, <POINT (0.689 0.928)>, <POINT (0.627 0.846)>, <POINT (0.685 0.717)>, <POINT (0.852 0.742)>, <POINT (0.768 0.981)>, <POINT (0.958 0.089)>, <POINT (0.393 0.816)>, <POINT (0.576 0.551)>, <POINT (0.175 0.649)>, <POINT (0.264 0.984)>, <POINT (0.528 0.865)>, <POINT (0.985 0.319)>, <POINT (0.374 0.532)>, <POINT (0.079 0.559)>, <POINT (0.188 0.318)>, <POINT (0.188 0.428)>, <POINT (0.998 0.614)>, <POINT (0.039 0.892)>, <POINT (0.582 0.248)>, <POINT (0.636 0.765)>, <POINT (0.984 0.141)>, <POINT (0.134 0.165)>, <POINT (0.897 0.172)>, <POINT (0.274 0.829)>, <POINT (0.463 0.87)>, <POINT (0.349 0.064)>, <POINT (0.302 0.291)>, <POINT (0.928 0.014)>, <POINT (0.724 0.84)>, <POINT (0.224 0.896)>]\n"
     ]
    }
   ],
   "source": [
    "#| hide\n",
    "#| output: false\n",
    "print(datos_simples.get_points())"
   ]
  },
  {
   "cell_type": "code",
   "execution_count": 6,
   "metadata": {},
   "outputs": [],
   "source": [
    "#| hide\n",
    "import nbdev; nbdev.nbdev_export()"
   ]
  },
  {
   "cell_type": "code",
   "execution_count": null,
   "metadata": {},
   "outputs": [],
   "source": []
  }
 ],
 "metadata": {
  "kernelspec": {
   "display_name": "Python 3 (ipykernel)",
   "language": "python",
   "name": "python3"
  },
  "language_info": {
   "codemirror_mode": {
    "name": "ipython",
    "version": 3
   },
   "file_extension": ".py",
   "mimetype": "text/x-python",
   "name": "python",
   "nbconvert_exporter": "python",
   "pygments_lexer": "ipython3",
   "version": "3.12.1"
  }
 },
 "nbformat": 4,
 "nbformat_minor": 4
}
